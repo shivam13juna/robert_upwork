{
 "cells": [
  {
   "cell_type": "code",
   "execution_count": 1,
   "metadata": {},
   "outputs": [],
   "source": [
    "import pandas as pd\n",
    "import numpy as np\n",
    "import string\n",
    "from string import digits\n",
    "import matplotlib.pyplot as plt\n",
    "%matplotlib inline\n",
    "import re\n",
    "from sklearn.model_selection import train_test_split\n",
    "# Building a english to french translator"
   ]
  },
  {
   "cell_type": "code",
   "execution_count": 2,
   "metadata": {},
   "outputs": [],
   "source": [
    "# Get the data\n",
    "names=pd.read_csv('human_names.csv')"
   ]
  },
  {
   "cell_type": "code",
   "execution_count": 3,
   "metadata": {},
   "outputs": [],
   "source": [
    "names.name=names.name.apply(lambda x: x.lower())"
   ]
  },
  {
   "cell_type": "code",
   "execution_count": 4,
   "metadata": {},
   "outputs": [],
   "source": [
    "names=pd.DataFrame({'name':names.name.unique()})"
   ]
  },
  {
   "cell_type": "code",
   "execution_count": 5,
   "metadata": {},
   "outputs": [
    {
     "data": {
      "text/html": [
       "<div>\n",
       "<style scoped>\n",
       "    .dataframe tbody tr th:only-of-type {\n",
       "        vertical-align: middle;\n",
       "    }\n",
       "\n",
       "    .dataframe tbody tr th {\n",
       "        vertical-align: top;\n",
       "    }\n",
       "\n",
       "    .dataframe thead th {\n",
       "        text-align: right;\n",
       "    }\n",
       "</style>\n",
       "<table border=\"1\" class=\"dataframe\">\n",
       "  <thead>\n",
       "    <tr style=\"text-align: right;\">\n",
       "      <th></th>\n",
       "      <th>name</th>\n",
       "    </tr>\n",
       "  </thead>\n",
       "  <tbody>\n",
       "    <tr>\n",
       "      <th>0</th>\n",
       "      <td>john</td>\n",
       "    </tr>\n",
       "    <tr>\n",
       "      <th>1</th>\n",
       "      <td>william</td>\n",
       "    </tr>\n",
       "    <tr>\n",
       "      <th>2</th>\n",
       "      <td>james</td>\n",
       "    </tr>\n",
       "    <tr>\n",
       "      <th>3</th>\n",
       "      <td>charles</td>\n",
       "    </tr>\n",
       "    <tr>\n",
       "      <th>4</th>\n",
       "      <td>george</td>\n",
       "    </tr>\n",
       "  </tbody>\n",
       "</table>\n",
       "</div>"
      ],
      "text/plain": [
       "      name\n",
       "0     john\n",
       "1  william\n",
       "2    james\n",
       "3  charles\n",
       "4   george"
      ]
     },
     "execution_count": 5,
     "metadata": {},
     "output_type": "execute_result"
    }
   ],
   "source": [
    "names.head()"
   ]
  },
  {
   "cell_type": "code",
   "execution_count": 6,
   "metadata": {},
   "outputs": [],
   "source": [
    "lenght_list=[]\n",
    "for l in names.name:\n",
    "    lenght_list.append(len(l))\n",
    "max_len = np.max(lenght_list)+1"
   ]
  },
  {
   "cell_type": "code",
   "execution_count": 7,
   "metadata": {},
   "outputs": [],
   "source": [
    "# Append '\\t' to input to delay target by 1 timstamp\n",
    "names['name']=names.name.apply(lambda x:'\\t'+x)"
   ]
  },
  {
   "cell_type": "code",
   "execution_count": 8,
   "metadata": {},
   "outputs": [],
   "source": [
    "# Append \\n to notify end of word\n",
    "names['target']=names.name.apply(lambda x:x[1:len(x)]+'\\n')"
   ]
  },
  {
   "cell_type": "code",
   "execution_count": 9,
   "metadata": {},
   "outputs": [
    {
     "data": {
      "text/plain": [
       "(6782, 2)"
      ]
     },
     "execution_count": 9,
     "metadata": {},
     "output_type": "execute_result"
    }
   ],
   "source": [
    "names.shape"
   ]
  },
  {
   "cell_type": "code",
   "execution_count": 22,
   "metadata": {},
   "outputs": [],
   "source": [
    "# Get the vocab dict\n",
    "all_chars=set()\n",
    "for name in names.name:\n",
    "    for c in name:\n",
    "        if c not in all_chars:\n",
    "            all_chars.add(c)\n",
    "all_chars.add('\\n')\n",
    "\n",
    "# max length of a name is 11\n",
    "char_to_ix = { ch:i for i,ch in enumerate(sorted(all_chars)) }\n",
    "ix_to_char = { i:ch for i,ch in enumerate(sorted(all_chars)) }"
   ]
  },
  {
   "cell_type": "code",
   "execution_count": 23,
   "metadata": {},
   "outputs": [
    {
     "data": {
      "text/plain": [
       "dict_items([('\\t', 0), ('\\n', 1), ('a', 2), ('b', 3), ('c', 4), ('d', 5), ('e', 6), ('f', 7), ('g', 8), ('h', 9), ('i', 10), ('j', 11), ('k', 12), ('l', 13), ('m', 14), ('n', 15), ('o', 16), ('p', 17), ('q', 18), ('r', 19), ('s', 20), ('t', 21), ('u', 22), ('v', 23), ('w', 24), ('x', 25), ('y', 26), ('z', 27)])"
      ]
     },
     "execution_count": 23,
     "metadata": {},
     "output_type": "execute_result"
    }
   ],
   "source": [
    "char_to_ix.items()"
   ]
  },
  {
   "cell_type": "code",
   "execution_count": 11,
   "metadata": {},
   "outputs": [],
   "source": [
    "input_data = np.zeros((len(names.name), max_len, 28),dtype='float32')\n",
    "output_data = np.zeros((len(names.name), max_len, 28),dtype='float32')"
   ]
  },
  {
   "cell_type": "code",
   "execution_count": 12,
   "metadata": {},
   "outputs": [],
   "source": [
    "# Generate input and output data\n",
    "for i, x in enumerate(names.name):\n",
    "    for t, ch in enumerate(x):\n",
    "        input_data[i, t, char_to_ix[ch]] = 1.\n",
    "for i, x in enumerate(names.target):\n",
    "    for t, ch in enumerate(x):\n",
    "        output_data[i,t, char_to_ix[ch]] = 1."
   ]
  },
  {
   "cell_type": "code",
   "execution_count": 13,
   "metadata": {},
   "outputs": [],
   "source": [
    "from tensorflow.keras.layers import Input, LSTM, Embedding, Dense\n",
    "from tensorflow.keras.models import Model\n",
    "from tensorflow.keras.models import Sequential\n",
    "from tensorflow.keras.layers import Dense, Activation\n",
    "from tensorflow.keras.layers import LSTM, Dropout\n",
    "from tensorflow.keras.callbacks import LambdaCallback\n",
    "from tensorflow.keras.layers import TimeDistributed\n",
    "from tensorflow.keras.optimizers import RMSprop\n",
    "from tensorflow.keras.utils import plot_model"
   ]
  },
  {
   "cell_type": "code",
   "execution_count": 24,
   "metadata": {},
   "outputs": [],
   "source": [
    "model = Sequential()\n",
    "model.add(LSTM(50, input_shape=(max_len, len(all_chars)), return_sequences=True))\n",
    "model.add(Dense(len(all_chars)))\n",
    "model.add(Activation('softmax'))\n",
    "optimizer = RMSprop(lr=0.01)\n",
    "model.compile(loss='categorical_crossentropy', optimizer=optimizer)"
   ]
  },
  {
   "cell_type": "code",
   "execution_count": 25,
   "metadata": {},
   "outputs": [
    {
     "name": "stdout",
     "output_type": "stream",
     "text": [
      "Model: \"sequential_1\"\n",
      "_________________________________________________________________\n",
      "Layer (type)                 Output Shape              Param #   \n",
      "=================================================================\n",
      "lstm_1 (LSTM)                (None, 12, 50)            15800     \n",
      "_________________________________________________________________\n",
      "dense_1 (Dense)              (None, 12, 28)            1428      \n",
      "_________________________________________________________________\n",
      "activation_1 (Activation)    (None, 12, 28)            0         \n",
      "=================================================================\n",
      "Total params: 17,228\n",
      "Trainable params: 17,228\n",
      "Non-trainable params: 0\n",
      "_________________________________________________________________\n"
     ]
    }
   ],
   "source": [
    "model.summary()"
   ]
  },
  {
   "cell_type": "code",
   "execution_count": 26,
   "metadata": {},
   "outputs": [],
   "source": [
    "# Sampling function to generate new names\n",
    "def onend(epoch, logs):\n",
    "    if epoch%2==0 and epoch !=0:\n",
    "        print('----- Generating text after Epoch: %d' % epoch)\n",
    "        for i in range(0,10):\n",
    "            stop=False\n",
    "            ch='\\t'\n",
    "            counter=1\n",
    "            target_seq = np.zeros((1, max_len, 28))\n",
    "            target_seq[0, 0, char_to_ix[ch]] = 1.\n",
    "            while stop == False and counter < 10:\n",
    "                #sample the data\n",
    "                probs = model.predict_proba(target_seq, verbose=0)[:,counter-1,:]\n",
    "                c= np.random.choice(sorted(list(all_chars)), replace =False,p=probs.reshape(28))\n",
    "                #c=ix_to_char[np.argmax(probs.reshape(28))]\n",
    "                if c=='\\n':\n",
    "                    stop=True\n",
    "                else:\n",
    "                    ch=ch+c\n",
    "                    target_seq[0,counter , char_to_ix[c]] = 1.\n",
    "                    counter=counter+1\n",
    "            print(ch)\n"
   ]
  },
  {
   "cell_type": "code",
   "execution_count": 27,
   "metadata": {},
   "outputs": [
    {
     "name": "stdout",
     "output_type": "stream",
     "text": [
      "No checkpoint available!\n",
      "Train on 6782 samples\n",
      "Epoch 1/20\n",
      "6782/6782 [==============================] - 2s 356us/sample - loss: 1.3640\n",
      "Epoch 2/20\n",
      "6782/6782 [==============================] - 2s 261us/sample - loss: 1.2396\n",
      "Epoch 3/20\n",
      "6720/6782 [============================>.] - ETA: 0s - loss: 1.1988----- Generating text after Epoch: 2\n",
      "\tmilanence\n",
      "\trola\n",
      "\tfliter\n",
      "\tflbana\n",
      "\trivin\n",
      "\tbrradyd\n",
      "\tlidema\n",
      "\tkaylen\n",
      "\tbrittud\n",
      "\tkick\n",
      "6782/6782 [==============================] - 2s 328us/sample - loss: 1.1991\n",
      "Epoch 4/20\n",
      "6782/6782 [==============================] - 2s 292us/sample - loss: 1.1712\n",
      "Epoch 5/20\n",
      "6752/6782 [============================>.] - ETA: 0s - loss: 1.1486----- Generating text after Epoch: 4\n",
      "\tkarmoste\n",
      "\twendrette\n",
      "\tfroen\n",
      "\tclerl\n",
      "\tkaidence\n",
      "\tpae\n",
      "\tclemmia\n",
      "\taarmeta\n",
      "\twinby\n",
      "\tisa\n",
      "6782/6782 [==============================] - 2s 326us/sample - loss: 1.1487\n",
      "Epoch 6/20\n",
      "6782/6782 [==============================] - 2s 307us/sample - loss: 1.1310\n",
      "Epoch 7/20\n",
      "6624/6782 [============================>.] - ETA: 0s - loss: 1.1153----- Generating text after Epoch: 6\n",
      "\tloiesta\n",
      "\tloraldo\n",
      "\twardon\n",
      "\tamison\n",
      "\tiracel\n",
      "\ttama\n",
      "\tlandergon\n",
      "\tfohna\n",
      "\tmudauf\n",
      "\tquinta\n",
      "6782/6782 [==============================] - 2s 337us/sample - loss: 1.1153\n",
      "Epoch 8/20\n",
      "6782/6782 [==============================] - 2s 289us/sample - loss: 1.1030\n",
      "Epoch 9/20\n",
      "6688/6782 [============================>.] - ETA: 0s - loss: 1.0927----- Generating text after Epoch: 8\n",
      "\tcarm\n",
      "\tezttel\n",
      "\tpaupby\n",
      "\tdony\n",
      "\tjandin\n",
      "\tjeuete\n",
      "\tletricya\n",
      "\tclynn\n",
      "\tthola\n",
      "\tabnarell\n",
      "6782/6782 [==============================] - 2s 329us/sample - loss: 1.0925\n",
      "Epoch 10/20\n",
      "6782/6782 [==============================] - 2s 294us/sample - loss: 1.0824\n",
      "Epoch 11/20\n",
      "6624/6782 [============================>.] - ETA: 0s - loss: 1.0726----- Generating text after Epoch: 10\n",
      "\twillfred\n",
      "\tjacosson\n",
      "\tdenita\n",
      "\tjoffran\n",
      "\thrammis\n",
      "\tharria\n",
      "\tkennia\n",
      "\tkennie\n",
      "\tclemdason\n",
      "\tfranfondi\n",
      "6782/6782 [==============================] - 2s 281us/sample - loss: 1.0727\n",
      "Epoch 12/20\n",
      "6782/6782 [==============================] - 2s 293us/sample - loss: 1.0657\n",
      "Epoch 13/20\n",
      "6656/6782 [============================>.] - ETA: 0s - loss: 1.0592----- Generating text after Epoch: 12\n",
      "\tmoye\n",
      "\tgarne\n",
      "\ttavina\n",
      "\thermila\n",
      "\tyulahry\n",
      "\treveen\n",
      "\tjamemen\n",
      "\tantwon\n",
      "\ttreba\n",
      "\tkrishl\n",
      "6782/6782 [==============================] - 2s 314us/sample - loss: 1.0593\n",
      "Epoch 14/20\n",
      "6782/6782 [==============================] - 2s 287us/sample - loss: 1.0527\n",
      "Epoch 15/20\n",
      "6752/6782 [============================>.] - ETA: 0s - loss: 1.0463----- Generating text after Epoch: 14\n",
      "\tnatalda\n",
      "\tigfery\n",
      "\triney\n",
      "\talborne\n",
      "\tarlah\n",
      "\tjoyah\n",
      "\tcatsherto\n",
      "\tcampsonte\n",
      "\tharton\n",
      "\telmira\n",
      "6782/6782 [==============================] - 3s 375us/sample - loss: 1.0467\n",
      "Epoch 16/20\n",
      "6782/6782 [==============================] - 2s 357us/sample - loss: 1.0409\n",
      "Epoch 17/20\n",
      "6624/6782 [============================>.] - ETA: 0s - loss: 1.0353----- Generating text after Epoch: 16\n",
      "\tmirgahly\n",
      "\tdexore\n",
      "\tjaquelyn\n",
      "\tjayfer\n",
      "\tloretta\n",
      "\tarley\n",
      "\tjaylen\n",
      "\teusta\n",
      "\tkeana\n",
      "\tyosbin\n",
      "6782/6782 [==============================] - 3s 369us/sample - loss: 1.0359\n",
      "Epoch 18/20\n",
      "6782/6782 [==============================] - 2s 322us/sample - loss: 1.0312\n",
      "Epoch 19/20\n",
      "6752/6782 [============================>.] - ETA: 0s - loss: 1.0273----- Generating text after Epoch: 18\n",
      "\telpsus\n",
      "\teli\n",
      "\tllaus\n",
      "\telvaid\n",
      "\tsabith\n",
      "\talmys\n",
      "\talezen\n",
      "\tviesta\n",
      "\trtusha\n",
      "\tmallen\n",
      "6782/6782 [==============================] - 2s 330us/sample - loss: 1.0276\n",
      "Epoch 20/20\n",
      "6782/6782 [==============================] - 2s 302us/sample - loss: 1.0239\n"
     ]
    }
   ],
   "source": [
    "# fit the model\n",
    "try:\n",
    "    model.load('robert.hdf5')\n",
    "except:\n",
    "    print(\"No checkpoint available!\")\n",
    "    print_callback = LambdaCallback(on_epoch_end=onend)\n",
    "    model.fit(input_data, output_data, batch_size=32,epochs=20, callbacks=[print_callback])\n",
    "    model.save('robert.hdf5')"
   ]
  },
  {
   "cell_type": "code",
   "execution_count": 29,
   "metadata": {},
   "outputs": [
    {
     "name": "stdout",
     "output_type": "stream",
     "text": [
      "\tlyneta\n",
      "\tarlont\n",
      "\teerno\n",
      "\tcrystin\n",
      "\tfarrint\n",
      "\tporp\n",
      "\tfermy\n",
      "\tjasmen\n",
      "\tjoshe\n",
      "\tkathlyn\n"
     ]
    }
   ],
   "source": [
    "for i in range(0,10):\n",
    "    stop=False\n",
    "    ch='\\t'\n",
    "    counter=1\n",
    "    target_seq = np.zeros((1, max_len, 28))\n",
    "    target_seq[0, 0, char_to_ix[ch]] = 1.\n",
    "    while stop == False and counter < 10:\n",
    "        #sample the data\n",
    "        probs = model.predict_proba(target_seq, verbose=0)[:,counter-1,:]\n",
    "        c= np.random.choice(sorted(list(all_chars)), replace =False,p=probs.reshape(28))\n",
    "        #c=ix_to_char[np.argmax(probs.reshape(28))]\n",
    "        if c=='\\n':\n",
    "            stop=True\n",
    "        else:\n",
    "            ch=ch+c\n",
    "            target_seq[0,counter , char_to_ix[c]] = 1.\n",
    "            counter=counter+1\n",
    "    print(ch)\n"
   ]
  },
  {
   "cell_type": "code",
   "execution_count": null,
   "metadata": {},
   "outputs": [],
   "source": []
  },
  {
   "cell_type": "code",
   "execution_count": null,
   "metadata": {},
   "outputs": [],
   "source": []
  }
 ],
 "metadata": {
  "kernelspec": {
   "display_name": "Python 3",
   "language": "python",
   "name": "python3"
  },
  "language_info": {
   "codemirror_mode": {
    "name": "ipython",
    "version": 3
   },
   "file_extension": ".py",
   "mimetype": "text/x-python",
   "name": "python",
   "nbconvert_exporter": "python",
   "pygments_lexer": "ipython3",
   "version": "3.7.6"
  }
 },
 "nbformat": 4,
 "nbformat_minor": 4
}
